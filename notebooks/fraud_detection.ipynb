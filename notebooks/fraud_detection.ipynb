{
 "cells": [
  {
   "cell_type": "markdown",
   "id": "c25c7041",
   "metadata": {
    "id": "Fx7STfuBU-4z"
   },
   "source": [
    "# **Credit Card Fraud Detection**"
   ]
  },
  {
   "cell_type": "markdown",
   "id": "daaffd97",
   "metadata": {
    "id": "52cb14e2"
   },
   "source": [
    "Link to the dataset: https://www.kaggle.com/datasets/mlg-ulb/creditcardfraud"
   ]
  },
  {
   "cell_type": "markdown",
   "id": "6795d0c1",
   "metadata": {
    "id": "ee2177d2"
   },
   "source": [
    "### Import the necessary libraries"
   ]
  },
  {
   "cell_type": "code",
   "execution_count": null,
   "id": "2eb4d791",
   "metadata": {
    "id": "pEN_Q-SyVNTV"
   },
   "outputs": [],
   "source": [
    "# Import necessary libraries\n",
    "import pandas as pd  # For data manipulation and analysis\n",
    "import numpy as np  # For numerical operations\n",
    "import matplotlib.pyplot as plt  # For data visualization\n",
    "import seaborn as sns  # For advanced data visualization\n",
    "import kagglehub  # For downloading datasets from Kaggle\n",
    "from sklearn.model_selection import train_test_split  # For splitting the dataset into training and testing sets\n",
    "from sklearn.ensemble import RandomForestClassifier  # For creating a classification model with Random Forest\n",
    "from sklearn.metrics import classification_report, accuracy_score  # For evaluating the model's performance\n",
    "\n",
    "import warnings  # For handling warnings\n",
    "warnings.filterwarnings(\"ignore\")  # Ignore warnings"
   ]
  },
  {
   "cell_type": "markdown",
   "id": "c4134d12",
   "metadata": {
    "id": "be3693c6"
   },
   "source": [
    "### Import and organize the dataset"
   ]
  },
  {
   "cell_type": "code",
   "execution_count": null,
   "id": "29b35f75",
   "metadata": {
    "id": "7SsN9nl3WgUe"
   },
   "outputs": [],
   "source": [
    "# Organize the data into a dataframe\n",
    "\n",
    "# Download the dataset from Kaggle\n",
    "path = kagglehub.dataset_download(\"mlg-ulb/creditcardfraud\")\n",
    "\n",
    "print(\"Path to dataset files:\", path)\n",
    "\n",
    "# Load the CSV file into a dataframe\n",
    "data = pd.read_csv(f\"{path}/creditcard.csv\")\n",
    "\n",
    "# Display the first 10 rows\n",
    "data.head(10)"
   ]
  },
  {
   "cell_type": "markdown",
   "id": "3d4fe1a9",
   "metadata": {
    "id": "029752ea"
   },
   "source": [
    "### Clean the data"
   ]
  },
  {
   "cell_type": "markdown",
   "id": "fe00f5bd",
   "metadata": {
    "id": "cb2a68ca"
   },
   "source": [
    "a. Missing values"
   ]
  },
  {
   "cell_type": "code",
   "execution_count": null,
   "id": "efd10e6f",
   "metadata": {
    "colab": {
     "base_uri": "https://localhost:8080/"
    },
    "id": "aH4heMPnYzfa",
    "outputId": "d9becb42-71aa-43cd-ced8-66c69b470692"
   },
   "outputs": [],
   "source": [
    "# Check for missing values in each column\n",
    "missing_values = data.isnull().sum()\n",
    "\n",
    "# Display the missing values per column\n",
    "print(\"Missing values per column:\")\n",
    "print(missing_values)"
   ]
  },
  {
   "cell_type": "markdown",
   "id": "4516036d",
   "metadata": {
    "id": "6295d53f"
   },
   "source": [
    "b. Duplicate Data"
   ]
  },
  {
   "cell_type": "code",
   "execution_count": null,
   "id": "da501911",
   "metadata": {},
   "outputs": [],
   "source": [
    "# Check for duplicate rows in the dataframe\n",
    "duplicate_rows = data.duplicated().sum()\n",
    "\n",
    "# Display the number of duplicate rows\n",
    "print(f\"Number of duplicate rows: {duplicate_rows}\")\n"
   ]
  },
  {
   "cell_type": "markdown",
   "id": "b5119181",
   "metadata": {
    "id": "61a15123"
   },
   "source": [
    "### Analyze the data"
   ]
  },
  {
   "cell_type": "markdown",
   "id": "5f9d6331",
   "metadata": {
    "id": "ymzeVlYsdzK9"
   },
   "source": [
    "Question 1: What is the percentage of fraudulent transactions in the dataset?\n"
   ]
  },
  {
   "cell_type": "code",
   "execution_count": null,
   "id": "fc08822c",
   "metadata": {
    "colab": {
     "base_uri": "https://localhost:8080/"
    },
    "id": "VFIAOd2rdv4I",
    "outputId": "a245cd77-9ccb-4c39-8eca-4eae42115cc9"
   },
   "outputs": [],
   "source": [
    "# Count the total number of transactions\n",
    "total_transactions = len(data)\n",
    "\n",
    "# Count the number of fraudulent transactions (where \"Class\" is 1)\n",
    "fraudulent_transactions = data[data['Class'] == 1].shape[0]\n",
    "\n",
    "# Calculate the percentage of fraudulent transactions\n",
    "fraudulent_percentage = (fraudulent_transactions / total_transactions) * 100\n",
    "\n",
    "# Display the percentage of fraudulent transactions\n",
    "print(f\"Percentage of fraudulent transactions: {fraudulent_percentage:.2f}%\")"
   ]
  },
  {
   "cell_type": "markdown",
   "id": "906ae755",
   "metadata": {
    "id": "HkKxW6Z-dyVZ"
   },
   "source": [
    "Question 2: What is the average amount of fraudulent transactions?\n"
   ]
  },
  {
   "cell_type": "code",
   "execution_count": null,
   "id": "38993dc8",
   "metadata": {
    "colab": {
     "base_uri": "https://localhost:8080/"
    },
    "id": "29tD3aqxdNyF",
    "outputId": "a194a143-d821-4fdf-c512-487680012902"
   },
   "outputs": [],
   "source": [
    "# Filter the fraudulent transactions\n",
    "fraudulent_data = data[data['Class'] == 1]\n",
    "\n",
    "# Calculate the average amount of fraudulent transactions\n",
    "average_fraudulent_amount = fraudulent_data['Amount'].mean()\n",
    "\n",
    "# Display the average amount of fraudulent transactions\n",
    "print(f\"Average amount of fraudulent transactions: {average_fraudulent_amount:.2f}\")\n"
   ]
  },
  {
   "cell_type": "markdown",
   "id": "4c947f70",
   "metadata": {
    "id": "6efda2ac"
   },
   "source": [
    "### Visualize the data"
   ]
  },
  {
   "cell_type": "markdown",
   "id": "02753134",
   "metadata": {
    "id": "UVvhV7XTbAfs"
   },
   "source": [
    "\n",
    "Question 1: How many fraudulent transactions are there compared to non-fraudulent transactions? (Use a bar chart)"
   ]
  },
  {
   "cell_type": "code",
   "execution_count": null,
   "id": "65747ac7",
   "metadata": {
    "colab": {
     "base_uri": "https://localhost:8080/",
     "height": 472
    },
    "id": "BPPpMLz-bBsK",
    "outputId": "da306b68-094f-4513-ef03-9cdbbf1358b2"
   },
   "outputs": [],
   "source": [
    "#To create a bar chart, we can use the `plot()` method from pandas or the `bar()` method from matplotlib. Here's the code to fit at $PLACEHOLDER$:\n",
    "# Count the number of fraudulent and non-fraudulent transactions\n",
    "transaction_counts = data['Class'].value_counts()\n",
    "\n",
    "# Display the distribution of fraudulent vs non-fraudulent transactions\n",
    "plt.figure(figsize=(8, 6))\n",
    "transaction_counts.plot(kind='bar', color=['red', 'green'])\n",
    "plt.title('Number of Fraudulent vs Non-Fraudulent Transactions')\n",
    "plt.xlabel('Class (0: No Fraud, 1: Fraud)')\n",
    "plt.ylabel('Number of Transactions')\n",
    "plt.xticks([0, 1], ['No Fraud', 'Fraud'], rotation=0)\n",
    "plt.show()"
   ]
  },
  {
   "cell_type": "markdown",
   "id": "6a282afc",
   "metadata": {
    "id": "mQ_FeNOpbg-U"
   },
   "source": [
    "Question 2: What is the distribution of the amounts of fraudulent transactions? (Use a histogram)\n"
   ]
  },
  {
   "cell_type": "code",
   "execution_count": null,
   "id": "97a8b8b2",
   "metadata": {
    "colab": {
     "base_uri": "https://localhost:8080/",
     "height": 472
    },
    "id": "HEnYN0fxbh_Z",
    "outputId": "eab7e8b4-35c8-492f-f02b-58b6d83deab4"
   },
   "outputs": [],
   "source": [
    "# Separate the fraudulent transaction data\n",
    "fraudulent_data = data[data['Class'] == 1]\n",
    "# Display the distribution of the amounts of fraudulent transactions\n",
    "plt.figure(figsize=(10, 6))\n",
    "plt.hist(fraudulent_data['Amount'], bins=50, color='red', alpha=0.7)\n",
    "plt.title('Distribution of Fraudulent Transaction Amounts')\n",
    "plt.xlabel('Amount')\n",
    "plt.ylabel('Frequency')\n",
    "plt.show()"
   ]
  },
  {
   "cell_type": "markdown",
   "id": "e645de69",
   "metadata": {},
   "source": [
    "## Model Development and Evaluation"
   ]
  },
  {
   "cell_type": "markdown",
   "id": "5ad482f1",
   "metadata": {},
   "source": [
    "### Split the dataset"
   ]
  },
  {
   "cell_type": "code",
   "execution_count": null,
   "id": "d7e57b15",
   "metadata": {},
   "outputs": [],
   "source": [
    "# Create the dataframe X with all columns except 'Class'\n",
    "X = data.drop('Class', axis=1)\n",
    "\n",
    "# Create the series y with only the 'Class' column\n",
    "y = data['Class']\n",
    "\n",
    "# Split the data into training and testing sets (80% training, 20% testing)\n",
    "X_train, X_test, y_train, y_test = train_test_split(X, y, test_size=0.2, random_state=42)\n",
    "\n",
    "# Display the dimensions of the resulting sets\n",
    "print(f\"Training set size (X_train, y_train): {X_train.shape}, {y_train.shape}\")\n",
    "print(f\"Testing set size (X_test, y_test): {X_test.shape}, {y_test.shape}\")"
   ]
  },
  {
   "cell_type": "markdown",
   "id": "ca39893a",
   "metadata": {},
   "source": [
    "### Create and evaluate models"
   ]
  },
  {
   "cell_type": "code",
   "execution_count": null,
   "id": "319dc249",
   "metadata": {},
   "outputs": [],
   "source": [
    "# Train the model with the training data\n",
    "rf_classifier.fit(X_train, y_train)\n",
    "\n",
    "# Make predictions on the test set\n",
    "y_pred = rf_classifier.predict(X_test)\n",
    "\n",
    "# Display the classification report\n",
    "print(\"Classification Report:\")\n",
    "print(classification_report(y_test, y_pred))\n",
    "\n",
    "# Calculate the accuracy of the model\n",
    "accuracy = accuracy_score(y_test, y_pred)\n",
    "\n",
    "# Display the accuracy as a percentage\n",
    "print(f\"Model Accuracy: {accuracy * 100:.2f}%\")"
   ]
  }
 ],
 "metadata": {
  "kernelspec": {
   "display_name": "Python 3 (ipykernel)",
   "language": "python",
   "name": "python3"
  },
  "language_info": {
   "codemirror_mode": {
    "name": "ipython",
    "version": 3
   },
   "file_extension": ".py",
   "mimetype": "text/x-python",
   "name": "python",
   "nbconvert_exporter": "python",
   "pygments_lexer": "ipython3",
   "version": "3.12.7"
  }
 },
 "nbformat": 4,
 "nbformat_minor": 5
}
